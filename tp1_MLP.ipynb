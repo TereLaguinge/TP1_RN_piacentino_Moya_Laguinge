{
  "nbformat": 4,
  "nbformat_minor": 0,
  "metadata": {
    "colab": {
      "name": "tp1_MLP.ipynb",
      "provenance": []
    },
    "kernelspec": {
      "name": "python3",
      "display_name": "Python 3"
    },
    "language_info": {
      "name": "python"
    }
  },
  "cells": [
    {
      "cell_type": "code",
      "metadata": {
        "colab": {
          "base_uri": "https://localhost:8080/"
        },
        "id": "4_RUSfUZU4x9",
        "outputId": "42da29d7-4e90-4b17-c19c-34404dfcf83d"
      },
      "source": [
        "# Se conecta al Drive:\n",
        "from google.colab import drive\n",
        "drive.mount('/content/drive')"
      ],
      "execution_count": null,
      "outputs": [
        {
          "output_type": "stream",
          "name": "stdout",
          "text": [
            "Drive already mounted at /content/drive; to attempt to forcibly remount, call drive.mount(\"/content/drive\", force_remount=True).\n"
          ]
        }
      ]
    },
    {
      "cell_type": "code",
      "metadata": {
        "colab": {
          "base_uri": "https://localhost:8080/"
        },
        "id": "dn13KGeHVM5i",
        "outputId": "b5ebf995-5cd5-4abf-992a-2e42ac04168d"
      },
      "source": [
        "# Imports para el cv:\n",
        "from sklearn.feature_extraction.text import CountVectorizer, TfidfVectorizer\n",
        "\n",
        "# Imports para transformación de estructura de datos\n",
        "import numpy as np # linear algebra\n",
        "import pandas as pd # data processing, CSV file I/O (e.g. pd.read_csv)\n",
        "\n",
        "# Imports para Balance de datos:\n",
        "from collections import Counter\n",
        "\n",
        "# Imports para creación del Modelo:\n",
        "import tensorflow as tf\n",
        "from tensorflow.keras.layers import Dense\n",
        "from tensorflow.keras.optimizers import SGD\n",
        "from tensorflow.keras.models import Sequential\n",
        "from keras import utils as np_utils\n",
        "\n",
        "# Imports para la transformación de Labels:\n",
        "from sklearn.preprocessing import OneHotEncoder\n",
        "from keras.models import load_model\n",
        "import matplotlib.pyplot as plt\n",
        "\n",
        "%cd \"/content/drive/Shareddrives/Redes neuronales/TP1\"\n",
        "!pip install import-ipynb\n",
        "import import_ipynb\n",
        "from Helper import *\n",
        "\n",
        "# Metrics:\n",
        "from sklearn.metrics import precision_score, recall_score, f1_score, roc_auc_score"
      ],
      "execution_count": null,
      "outputs": [
        {
          "output_type": "stream",
          "name": "stdout",
          "text": [
            "/content/drive/Shareddrives/Redes neuronales/TP1\n",
            "Requirement already satisfied: import-ipynb in /usr/local/lib/python3.7/dist-packages (0.1.3)\n"
          ]
        }
      ]
    },
    {
      "cell_type": "markdown",
      "metadata": {
        "id": "RSkHC84EXZ05"
      },
      "source": [
        "## Carga de Datos:"
      ]
    },
    {
      "cell_type": "code",
      "metadata": {
        "id": "shaW8J0qWTAe"
      },
      "source": [
        "# Carga de datos:\n",
        "df_train = pd.read_hdf(\"/content/drive/Shareddrives/Redes neuronales/TP1/data/train_data.hdf5\")\n",
        "df_valid = pd.read_hdf(\"/content/drive/Shareddrives/Redes neuronales/TP1/data/valid_data.hdf5\")\n",
        "df_test = pd.read_hdf(\"/content/drive/Shareddrives/Redes neuronales/TP1/data/test_data.hdf5\")"
      ],
      "execution_count": null,
      "outputs": []
    },
    {
      "cell_type": "code",
      "metadata": {
        "id": "xCnh0mCNWXnt"
      },
      "source": [
        "# Pre procesados\n",
        "text_train_valid_filtrado_stem = open_txt('train_valid_filtrado_stem', \"/content/drive/Shareddrives/Redes neuronales/TP1/data_results/\")\n",
        "text_train_valid_filtrado_lc_stem = open_txt('train_valid_filtrado_lc_stem', \"/content/drive/Shareddrives/Redes neuronales/TP1/data_results/\")"
      ],
      "execution_count": null,
      "outputs": []
    },
    {
      "cell_type": "code",
      "metadata": {
        "id": "P7MMgES2Wgcf"
      },
      "source": [
        "text_train_filtered_STEM = text_train_valid_filtrado_stem[0:549367] #549367\n",
        "text_valid_filtered_STEM = text_train_valid_filtrado_stem[549367:] #9842\n",
        "text_train_filtered_LC_STEM = text_train_valid_filtrado_lc_stem[0:549367] #549367\n",
        "text_valid_filtered_LC_STEM = text_train_valid_filtrado_lc_stem[549367:] #9842"
      ],
      "execution_count": null,
      "outputs": []
    },
    {
      "cell_type": "code",
      "metadata": {
        "id": "oTW3EaT_XMhd"
      },
      "source": [
        "# Se dividen y arman las variables como vamos a trabajar:\n",
        "labels_train = df_train[\"gold_label\"].tolist()\n",
        "labels_valid = df_valid[\"gold_label\"].tolist()"
      ],
      "execution_count": null,
      "outputs": []
    },
    {
      "cell_type": "markdown",
      "metadata": {
        "id": "cIW-G40uX0bP"
      },
      "source": [
        "## Se corrobora el balance de los datos:"
      ]
    },
    {
      "cell_type": "code",
      "metadata": {
        "colab": {
          "base_uri": "https://localhost:8080/"
        },
        "id": "55fYG6clX0F6",
        "outputId": "63bbf39b-9fe6-4fdb-98a7-afd419033666"
      },
      "source": [
        "# Balance para Train:\n",
        "Counter(labels_train) "
      ],
      "execution_count": null,
      "outputs": [
        {
          "output_type": "execute_result",
          "data": {
            "text/plain": [
              "Counter({'contradiction': 183187, 'entailment': 183416, 'neutral': 182764})"
            ]
          },
          "metadata": {},
          "execution_count": 7
        }
      ]
    },
    {
      "cell_type": "code",
      "metadata": {
        "colab": {
          "base_uri": "https://localhost:8080/"
        },
        "id": "XWlkuoSFX_B9",
        "outputId": "32bec7ae-1622-40c9-bbed-c7319829eb17"
      },
      "source": [
        "# Balance para Valid:\n",
        "Counter(labels_valid)"
      ],
      "execution_count": null,
      "outputs": [
        {
          "output_type": "execute_result",
          "data": {
            "text/plain": [
              "Counter({'contradiction': 3278, 'entailment': 3329, 'neutral': 3235})"
            ]
          },
          "metadata": {},
          "execution_count": 8
        }
      ]
    },
    {
      "cell_type": "markdown",
      "metadata": {
        "id": "Wo_aYfOrYTwC"
      },
      "source": [
        "## Se crea y entrena el modelo:"
      ]
    },
    {
      "cell_type": "markdown",
      "metadata": {
        "id": "3UY5yl46PFtv"
      },
      "source": [
        "En el archivo de excel \"Pruebas MLP\", se muestra en resumen los diferentes modelos con los que se fue probando. Los parametros que se muestran a continuación son los que mejor entrenaron y predijeron, siendo la metrica principal el accuracy.\n",
        "\n",
        "El pre-pocesamiento de los textos fueron hechos con el Multinomial Bayes, y acá se utilizarón esos archivos generados."
      ]
    },
    {
      "cell_type": "markdown",
      "metadata": {
        "id": "Xn2WUkwLbZzi"
      },
      "source": [
        "### Parametros para la creación del modelo:"
      ]
    },
    {
      "cell_type": "code",
      "metadata": {
        "id": "YqZBmrXxYF5n"
      },
      "source": [
        "# Parametros de entrada:\n",
        "cantidad_capas = 3\n",
        "min_df=0.0000001\n",
        "max_df=0.8\n",
        "ngram_range = (1,1)\n",
        "cantidad_neuronas = [100, 100, 3]\n",
        "activation_function = [\"relu\",\"LeakyReLU\", \"softmax\"]\n",
        "alpha = [0.0, 0.8]\n",
        "learning_rate = 0.1"
      ],
      "execution_count": null,
      "outputs": []
    },
    {
      "cell_type": "markdown",
      "metadata": {
        "id": "baByEtRhbuuL"
      },
      "source": [
        "### Parametros para el entrenamiento del modelo:"
      ]
    },
    {
      "cell_type": "code",
      "metadata": {
        "id": "47Zj7mCtbyJh"
      },
      "source": [
        "# Parametros de entrada:\n",
        "batch_size = 1000\n",
        "epochs = 20\n",
        "batch_val = len(text_valid_filtered_LC_STEM)"
      ],
      "execution_count": null,
      "outputs": []
    },
    {
      "cell_type": "markdown",
      "metadata": {
        "id": "zG86y_NGdDYu"
      },
      "source": [
        "### Modelo y accuracy para texto pre-procesado solo son Stem:"
      ]
    },
    {
      "cell_type": "code",
      "metadata": {
        "colab": {
          "base_uri": "https://localhost:8080/"
        },
        "id": "-cKZfPiGdowf",
        "outputId": "451f8663-e768-4a52-b1df-9eab0e54b8e7"
      },
      "source": [
        "# Creación modelo:\n",
        "model_1 = crear_MLP_model(text_train_filtered_STEM, text_valid_filtered_STEM, cant_capas= cantidad_capas, min_df_= min_df, max_df_= max_df, ngram_range_= ngram_range, cant_neuronas= cantidad_neuronas, activation_func= activation_function, learning_rate= learning_rate, alpha = alpha)\n",
        "model_1.summary()"
      ],
      "execution_count": null,
      "outputs": [
        {
          "output_type": "stream",
          "name": "stdout",
          "text": [
            "Model: \"sequential\"\n",
            "_________________________________________________________________\n",
            "Layer (type)                 Output Shape              Param #   \n",
            "=================================================================\n",
            "dense (Dense)                (None, 100)               1991700   \n",
            "_________________________________________________________________\n",
            "dense_1 (Dense)              (None, 100)               10100     \n",
            "_________________________________________________________________\n",
            "dense_2 (Dense)              (None, 3)                 303       \n",
            "=================================================================\n",
            "Total params: 2,002,103\n",
            "Trainable params: 2,002,103\n",
            "Non-trainable params: 0\n",
            "_________________________________________________________________\n"
          ]
        }
      ]
    },
    {
      "cell_type": "code",
      "metadata": {
        "colab": {
          "base_uri": "https://localhost:8080/"
        },
        "id": "thoioGwAiULD",
        "outputId": "b472e2ec-5ed6-433b-ccb0-a80099e388bc"
      },
      "source": [
        "# Lo entreno:\n",
        "model_1_entrenado = entrenar_MLP_model(model_1, text_train_filtered_STEM, labels_train, text_valid_filtered_STEM, labels_valid, batch_size= batch_size, batch_val=batch_val, min_df_= min_df, max_df_= max_df, ngram_range_= ngram_range, epochs= epochs)"
      ],
      "execution_count": null,
      "outputs": [
        {
          "output_type": "stream",
          "name": "stdout",
          "text": [
            "(549367, 19916)\n",
            "(9842, 19916)\n",
            "training model....\n",
            "Epoch 1/20\n",
            "549/549 [==============================] - 139s 251ms/step - loss: 0.9956 - accuracy: 0.5150 - val_loss: 0.9144 - val_accuracy: 0.5774\n",
            "Epoch 2/20\n",
            "549/549 [==============================] - 135s 245ms/step - loss: 0.8946 - accuracy: 0.5913 - val_loss: 0.8615 - val_accuracy: 0.6106\n",
            "Epoch 3/20\n",
            "549/549 [==============================] - 135s 246ms/step - loss: 0.8651 - accuracy: 0.6079 - val_loss: 0.8446 - val_accuracy: 0.6150\n",
            "Epoch 4/20\n",
            "549/549 [==============================] - 144s 262ms/step - loss: 0.8506 - accuracy: 0.6154 - val_loss: 0.8242 - val_accuracy: 0.6344\n",
            "Epoch 5/20\n",
            "549/549 [==============================] - 142s 258ms/step - loss: 0.8388 - accuracy: 0.6225 - val_loss: 0.8601 - val_accuracy: 0.6061\n",
            "Epoch 6/20\n",
            "549/549 [==============================] - 141s 257ms/step - loss: 0.8283 - accuracy: 0.6293 - val_loss: 0.8446 - val_accuracy: 0.6123\n",
            "Epoch 7/20\n",
            "549/549 [==============================] - 143s 260ms/step - loss: 0.8219 - accuracy: 0.6330 - val_loss: 0.8200 - val_accuracy: 0.6319\n",
            "Epoch 8/20\n",
            "549/549 [==============================] - 146s 265ms/step - loss: 0.8122 - accuracy: 0.6383 - val_loss: 0.8256 - val_accuracy: 0.6274\n",
            "Epoch 9/20\n",
            "549/549 [==============================] - 142s 258ms/step - loss: 0.8053 - accuracy: 0.6424 - val_loss: 0.7863 - val_accuracy: 0.6523\n",
            "Epoch 10/20\n",
            "549/549 [==============================] - 141s 257ms/step - loss: 0.8002 - accuracy: 0.6456 - val_loss: 0.7837 - val_accuracy: 0.6556\n",
            "Epoch 11/20\n",
            "549/549 [==============================] - 144s 261ms/step - loss: 0.7934 - accuracy: 0.6496 - val_loss: 0.7890 - val_accuracy: 0.6470\n",
            "Epoch 12/20\n",
            "549/549 [==============================] - 139s 254ms/step - loss: 0.7891 - accuracy: 0.6515 - val_loss: 0.7879 - val_accuracy: 0.6480\n",
            "Epoch 13/20\n",
            "549/549 [==============================] - 140s 254ms/step - loss: 0.7832 - accuracy: 0.6561 - val_loss: 0.8037 - val_accuracy: 0.6369\n",
            "Epoch 14/20\n",
            "549/549 [==============================] - 140s 256ms/step - loss: 0.7792 - accuracy: 0.6577 - val_loss: 0.7778 - val_accuracy: 0.6560\n",
            "Epoch 15/20\n",
            "549/549 [==============================] - 141s 257ms/step - loss: 0.7757 - accuracy: 0.6603 - val_loss: 0.7733 - val_accuracy: 0.6599\n",
            "Epoch 16/20\n",
            "549/549 [==============================] - 146s 266ms/step - loss: 0.7690 - accuracy: 0.6633 - val_loss: 0.7717 - val_accuracy: 0.6574\n",
            "Epoch 17/20\n",
            "549/549 [==============================] - 142s 259ms/step - loss: 0.7654 - accuracy: 0.6656 - val_loss: 0.7706 - val_accuracy: 0.6613\n",
            "Epoch 18/20\n",
            "549/549 [==============================] - 142s 258ms/step - loss: 0.7620 - accuracy: 0.6681 - val_loss: 0.8077 - val_accuracy: 0.6380\n",
            "Epoch 19/20\n",
            "549/549 [==============================] - 141s 256ms/step - loss: 0.7581 - accuracy: 0.6699 - val_loss: 0.7841 - val_accuracy: 0.6536\n",
            "Epoch 20/20\n",
            "549/549 [==============================] - 147s 268ms/step - loss: 0.7561 - accuracy: 0.6709 - val_loss: 0.7809 - val_accuracy: 0.6540\n"
          ]
        }
      ]
    },
    {
      "cell_type": "markdown",
      "metadata": {
        "id": "1nQGaJi7nHBl"
      },
      "source": [
        "Se guarda el modelo entrenado:"
      ]
    },
    {
      "cell_type": "code",
      "metadata": {
        "id": "M1R1FV7CnKCW"
      },
      "source": [
        "# Guardar el Modelo\n",
        "model_1_entrenado.save('/content/drive/Shareddrives/Redes neuronales/TP1/Modelos_entrenados/modelo_entrenado_STEM.h5')"
      ],
      "execution_count": null,
      "outputs": []
    },
    {
      "cell_type": "markdown",
      "metadata": {
        "id": "Jt_wolsgi5fJ"
      },
      "source": [
        "### Modelo y accuracy para texto pre-procesado lc_Stem:"
      ]
    },
    {
      "cell_type": "code",
      "metadata": {
        "id": "ALZVVbf1glYA",
        "colab": {
          "base_uri": "https://localhost:8080/"
        },
        "outputId": "fd2fe63d-c34c-4562-dd2d-14dbac8a21cf"
      },
      "source": [
        "# Creación modelo:\n",
        "model_2 = crear_MLP_model(text_train_filtered_LC_STEM, text_valid_filtered_LC_STEM, cant_capas= cantidad_capas, min_df_= min_df, max_df_= max_df, ngram_range_= ngram_range, cant_neuronas= cantidad_neuronas, activation_func= activation_function, learning_rate= learning_rate, alpha = alpha)\n",
        "model_2.summary()"
      ],
      "execution_count": null,
      "outputs": [
        {
          "output_type": "stream",
          "name": "stdout",
          "text": [
            "Model: \"sequential_1\"\n",
            "_________________________________________________________________\n",
            "Layer (type)                 Output Shape              Param #   \n",
            "=================================================================\n",
            "dense_3 (Dense)              (None, 100)               1991700   \n",
            "_________________________________________________________________\n",
            "dense_4 (Dense)              (None, 100)               10100     \n",
            "_________________________________________________________________\n",
            "dense_5 (Dense)              (None, 3)                 303       \n",
            "=================================================================\n",
            "Total params: 2,002,103\n",
            "Trainable params: 2,002,103\n",
            "Non-trainable params: 0\n",
            "_________________________________________________________________\n"
          ]
        }
      ]
    },
    {
      "cell_type": "code",
      "metadata": {
        "colab": {
          "base_uri": "https://localhost:8080/"
        },
        "id": "VGRB_6dPjYBY",
        "outputId": "d5038b45-d205-4363-e414-eab057b0fd25"
      },
      "source": [
        "# Lo entreno:\n",
        "model_2_entrenado = entrenar_MLP_model(model_2, text_train_filtered_LC_STEM, labels_train, text_valid_filtered_LC_STEM, labels_valid, batch_size= batch_size, batch_val=batch_val, min_df_= min_df, max_df_= max_df, ngram_range_= ngram_range, epochs= epochs)"
      ],
      "execution_count": null,
      "outputs": [
        {
          "output_type": "stream",
          "name": "stdout",
          "text": [
            "(549367, 19916)\n",
            "(9842, 19916)\n",
            "training model....\n",
            "Epoch 1/20\n",
            "549/549 [==============================] - 147s 268ms/step - loss: 0.9932 - accuracy: 0.5166 - val_loss: 0.9136 - val_accuracy: 0.5810\n",
            "Epoch 2/20\n",
            "549/549 [==============================] - 150s 272ms/step - loss: 0.8953 - accuracy: 0.5903 - val_loss: 0.8730 - val_accuracy: 0.5963\n",
            "Epoch 3/20\n",
            "549/549 [==============================] - 146s 265ms/step - loss: 0.8672 - accuracy: 0.6062 - val_loss: 0.8429 - val_accuracy: 0.6180\n",
            "Epoch 4/20\n",
            "549/549 [==============================] - 145s 264ms/step - loss: 0.8502 - accuracy: 0.6156 - val_loss: 0.8284 - val_accuracy: 0.6328\n",
            "Epoch 5/20\n",
            "549/549 [==============================] - 146s 266ms/step - loss: 0.8416 - accuracy: 0.6208 - val_loss: 0.8196 - val_accuracy: 0.6354\n",
            "Epoch 6/20\n",
            "549/549 [==============================] - 154s 280ms/step - loss: 0.8298 - accuracy: 0.6279 - val_loss: 0.8163 - val_accuracy: 0.6359\n",
            "Epoch 7/20\n",
            "549/549 [==============================] - 148s 270ms/step - loss: 0.8225 - accuracy: 0.6329 - val_loss: 0.8060 - val_accuracy: 0.6390\n",
            "Epoch 8/20\n",
            "547/549 [============================>.] - ETA: 0s - loss: 0.8152 - accuracy: 0.6374"
          ]
        }
      ]
    },
    {
      "cell_type": "markdown",
      "metadata": {
        "id": "uQaQYn1FPwLA"
      },
      "source": [
        "Se decidio utilizar el Hold-out, y no el cross-validation, ya que de por si el modelo es mucho más complejo que el de MultinomialBayes.\n",
        "\n",
        "Además, el método Hold-out es bueno para usar cuando se tiene un conjunto de datos muy grande, ya que, a diferencia de la validación, no necesita tanto poder computacional y tiempo para ejecutarse."
      ]
    },
    {
      "cell_type": "markdown",
      "metadata": {
        "id": "awNkj2gFw1R5"
      },
      "source": [
        "## Se guardan el modelo y las metricas"
      ]
    },
    {
      "cell_type": "markdown",
      "metadata": {
        "id": "2-pFF8tFOwen"
      },
      "source": [
        "Cuando se quiera realizar el guardado de los modelos, recordar cambiar el path del mismo."
      ]
    },
    {
      "cell_type": "code",
      "metadata": {
        "id": "zaaFlwghOAvI"
      },
      "source": [
        "#Se guardan los modelos:\n",
        "model_1_entrenado.save('/content/drive/Shareddrives/Redes neuronales/TP1/Modelos_entrenados/modelo_entrenado_STEM.h5')\n",
        "model_2_entrenado.save('/content/drive/Shareddrives/Redes neuronales/TP1/Modelos_entrenados/modelo_entrenado_LC_STEM.h5')"
      ],
      "execution_count": null,
      "outputs": []
    },
    {
      "cell_type": "code",
      "metadata": {
        "id": "D6Jj9BzAOern"
      },
      "source": [
        "# Se guardan las metricas:\n",
        "\n",
        "# Modelo 1:\n",
        "dict = {'train_loss': model_1_entrenado.history.history['loss'], 'train_accuracy': model_1_entrenado.history.history['accuracy'],\n",
        "        'valid_loss': model_1_entrenado.history.history['val_loss'], 'valid_accuracy': model_1_entrenado.history.history['val_accuracy']}     \n",
        "df_1 = pd.DataFrame(dict)\n",
        "df_1.to_csv('/content/drive/Shareddrives/Redes neuronales/TP1/Modelos_entrenados/metrics_STEM.csv')\n",
        "\n",
        "# Modelo 2:\n",
        "dict = {'train_loss': model_2_entrenado.history.history['loss'], 'train_accuracy': model_2_entrenado.history.history['accuracy'],\n",
        "        'valid_loss': model_2_entrenado.history.history['val_loss'], 'valid_accuracy': model_2_entrenado.history.history['val_accuracy']}     \n",
        "df_1 = pd.DataFrame(dict)\n",
        "df_1.to_csv('/content/drive/Shareddrives/Redes neuronales/TP1/Modelos_entrenados/metrics_STEM.csv')"
      ],
      "execution_count": null,
      "outputs": []
    },
    {
      "cell_type": "markdown",
      "metadata": {
        "id": "V3lHoqDVw4us"
      },
      "source": [
        "## Se cargan el modelo y las metricas:"
      ]
    },
    {
      "cell_type": "code",
      "metadata": {
        "id": "lTQLyVPHw9tF"
      },
      "source": [
        "model_STEM = load_model('/content/drive/Shareddrives/Redes neuronales/TP1/Modelos_entrenados/modelo_entrenado_STEM.h5')\n",
        "metrics_STEM = pd.read_csv('/content/drive/Shareddrives/Redes neuronales/TP1/Modelos_entrenados/metrics_STEM.csv')\n",
        "model_LC_STEM = load_model('/content/drive/Shareddrives/Redes neuronales/TP1/Modelos_entrenados/modelo_entrenado_LC_STEM.h5')\n",
        "metrics_LC_STEM = pd.read_csv('/content/drive/Shareddrives/Redes neuronales/TP1/Modelos_entrenados/metrics_LC_STEM.csv')"
      ],
      "execution_count": null,
      "outputs": []
    },
    {
      "cell_type": "markdown",
      "metadata": {
        "id": "hQIrndbTx2r8"
      },
      "source": [
        "## Se hace la clasificación para el conjunto de testeo"
      ]
    },
    {
      "cell_type": "markdown",
      "metadata": {
        "id": "LPMmj7z-0JW1"
      },
      "source": [
        "### Evaluación de los modelos"
      ]
    },
    {
      "cell_type": "markdown",
      "metadata": {
        "id": "oGhNC22_x_yy"
      },
      "source": [
        "Primero se va a evaluar con cual de los dos modelos vamos a predecir."
      ]
    },
    {
      "cell_type": "markdown",
      "metadata": {
        "id": "ihIBfCNQyN04"
      },
      "source": [
        "##### Modelo de Stemming:"
      ]
    },
    {
      "cell_type": "code",
      "metadata": {
        "colab": {
          "base_uri": "https://localhost:8080/",
          "height": 265
        },
        "id": "fvdnOZq9x_Xh",
        "outputId": "f1e5253c-f063-4a9a-d1bd-eaf839b96e03"
      },
      "source": [
        "# Se plotean las metricas para el modelo 1:\n",
        "plt.plot(metrics_STEM['Unnamed: 0'].to_numpy(), metrics_STEM['train_loss'].to_numpy(), label = 'loss')\n",
        "plt.plot(metrics_STEM['Unnamed: 0'].to_numpy(), metrics_STEM['train_accuracy'].to_numpy(), label = 'accuracy')\n",
        "plt.plot(metrics_STEM['Unnamed: 0'].to_numpy(), metrics_STEM['valid_loss'].to_numpy(), label = 'val_loss')\n",
        "plt.plot(metrics_STEM['Unnamed: 0'].to_numpy(), metrics_STEM['valid_accuracy'].to_numpy(), label = 'val_accuracy')\n",
        "plt.legend()\n",
        "plt.show()"
      ],
      "execution_count": null,
      "outputs": [
        {
          "output_type": "display_data",
          "data": {
            "image/png": "[encoded data removed]",
            "text/plain": [
              "<Figure size 432x288 with 1 Axes>"
            ]
          },
          "metadata": {
            "needs_background": "light"
          }
        }
      ]
    },
    {
      "cell_type": "markdown",
      "metadata": {
        "id": "AIgaSvf0z0fa"
      },
      "source": [
        "##### Modelo de LowCase:"
      ]
    },
    {
      "cell_type": "code",
      "metadata": {
        "colab": {
          "base_uri": "https://localhost:8080/",
          "height": 265
        },
        "id": "yNeMnH9pz0TF",
        "outputId": "060e1a2a-57b0-408c-ac67-d5a1f3e8886f"
      },
      "source": [
        "# Se plotean las metricas para el modelo 1:\n",
        "plt.plot(metrics_LC_STEM['Unnamed: 0'].to_numpy(), metrics_LC_STEM['train_loss'].to_numpy(), label = 'loss')\n",
        "plt.plot(metrics_LC_STEM['Unnamed: 0'].to_numpy(), metrics_LC_STEM['train_accuracy'].to_numpy(), label = 'accuracy')\n",
        "plt.plot(metrics_LC_STEM['Unnamed: 0'].to_numpy(), metrics_LC_STEM['valid_loss'].to_numpy(), label = 'val_loss')\n",
        "plt.plot(metrics_LC_STEM['Unnamed: 0'].to_numpy(), metrics_LC_STEM['valid_accuracy'].to_numpy(), label = 'val_accuracy')\n",
        "plt.legend()\n",
        "plt.show()"
      ],
      "execution_count": null,
      "outputs": [
        {
          "output_type": "display_data",
          "data": {
            "image/png": "[encoded data removed]",
            "text/plain": [
              "<Figure size 432x288 with 1 Axes>"
            ]
          },
          "metadata": {
            "needs_background": "light"
          }
        }
      ]
    },
    {
      "cell_type": "markdown",
      "metadata": {
        "id": "EfC4QCoSSN5w"
      },
      "source": [
        "Como se puede ver,los valores de accuracy obtenidos para el modelo 2 (entrenado con el texto pre-procesado por LC_STEM), son levemente superiores que para el modelo 1 (entrenado con el texto pre-procesado por STEM). además, en el caso del val_accuracy del modelo entrenado con LC_STEM se puede percibir una menor cantidad de ruido que para el modelo del STEM. \n",
        "\n",
        "Es por esto que se elige realizar las predicciones correspondientes con el texto pre-procesado por LowCase (LC) y Stemming (STEM). "
      ]
    },
    {
      "cell_type": "markdown",
      "metadata": {
        "id": "g6mp6sYE0Gs4"
      },
      "source": [
        "### Clasificación del conjunto de testeo"
      ]
    },
    {
      "cell_type": "code",
      "metadata": {
        "id": "kk4p2e1K0TUO"
      },
      "source": [
        "# Se carga el archivo\n",
        "text_test_filtrado = open_txt('test_filtrado_stem', \"/content/drive/Shareddrives/Redes neuronales/TP1/data_results/\")\n",
        "# Se crea el count vector del mismo\n",
        "cv_test = count_vector_test(text_train_filtered_LC_STEM, text_test_filtrado, min_df_= min_df, max_df_= max_df)"
      ],
      "execution_count": null,
      "outputs": []
    },
    {
      "cell_type": "markdown",
      "metadata": {
        "id": "dR-u3FF62xX9"
      },
      "source": [
        "Se hace la clasificacion"
      ]
    },
    {
      "cell_type": "code",
      "metadata": {
        "colab": {
          "base_uri": "https://localhost:8080/"
        },
        "id": "JvKOpmTx2hoL",
        "outputId": "cf6224ff-cf5d-4398-b27e-e81e9ce447c9"
      },
      "source": [
        "test_labels = model_LC_STEM.predict(cv_test)\n",
        "classes=np.argmax(test_labels,axis=1)\n",
        "print(classes)"
      ],
      "execution_count": null,
      "outputs": [
        {
          "output_type": "stream",
          "name": "stdout",
          "text": [
            "[0 2 0 ... 0 0 0]\n"
          ]
        }
      ]
    },
    {
      "cell_type": "code",
      "metadata": {
        "colab": {
          "base_uri": "https://localhost:8080/"
        },
        "id": "ydXV-Zn_8a8R",
        "outputId": "3cb794ab-72d7-4526-feed-6ffff5fe9e28"
      },
      "source": [
        "posibles_clases = labels_train[:3]\n",
        "test_predicho = convert_pd(classes, posibles_clases)\n",
        "print(test_predicho)"
      ],
      "execution_count": null,
      "outputs": [
        {
          "output_type": "stream",
          "name": "stdout",
          "text": [
            "          pred_labels\n",
            "pairID               \n",
            "0       contradiction\n",
            "1             neutral\n",
            "2       contradiction\n",
            "3       contradiction\n",
            "4             neutral\n",
            "...               ...\n",
            "9819    contradiction\n",
            "9820       entailment\n",
            "9821    contradiction\n",
            "9822    contradiction\n",
            "9823    contradiction\n",
            "\n",
            "[9824 rows x 1 columns]\n"
          ]
        }
      ]
    },
    {
      "cell_type": "markdown",
      "metadata": {
        "id": "WbL983RhNZ4i"
      },
      "source": [
        "## Se hace la evalución de las segundas metricas:"
      ]
    },
    {
      "cell_type": "markdown",
      "metadata": {
        "id": "UW9AFl7oNNH8"
      },
      "source": [
        "Se convierten los true labels del valid de string a numeros"
      ]
    },
    {
      "cell_type": "code",
      "metadata": {
        "id": "o3xrm_9fM3Pz"
      },
      "source": [
        "true_valid_labels = transform_string_num(labels_valid)"
      ],
      "execution_count": null,
      "outputs": []
    },
    {
      "cell_type": "markdown",
      "metadata": {
        "id": "PKVDlPumAAWZ"
      },
      "source": [
        "Para evaluar las metricas se realiza el mismo procedimiento que para el test, para obtener sus clases predichas."
      ]
    },
    {
      "cell_type": "code",
      "metadata": {
        "colab": {
          "base_uri": "https://localhost:8080/"
        },
        "id": "Dg7PwmtT_yrq",
        "outputId": "c8dc6a5e-de7f-4cdb-841d-ef7b34aae560"
      },
      "source": [
        "cv_valid = count_vector_test(text_train_filtered_LC_STEM, text_valid_filtered_LC_STEM, min_df_= min_df, max_df_= max_df)\n",
        "cv_valid_labels = model_LC_STEM.predict(cv_valid)\n",
        "predict_valid_labels=np.argmax(cv_valid_labels,axis=1)\n",
        "print(predict_valid_labels)"
      ],
      "execution_count": null,
      "outputs": [
        {
          "output_type": "stream",
          "name": "stdout",
          "text": [
            "[0 1 2 ... 2 2 1]\n"
          ]
        }
      ]
    },
    {
      "cell_type": "code",
      "metadata": {
        "colab": {
          "base_uri": "https://localhost:8080/"
        },
        "id": "YGAPZkuNBzdT",
        "outputId": "6693222d-8132-4a69-f1ce-04e17bd5ada8"
      },
      "source": [
        "posibles_clases = labels_train[:3]\n",
        "print(posibles_clases)"
      ],
      "execution_count": null,
      "outputs": [
        {
          "output_type": "stream",
          "name": "stdout",
          "text": [
            "['contradiction', 'entailment', 'neutral']\n"
          ]
        }
      ]
    },
    {
      "cell_type": "markdown",
      "metadata": {
        "id": "JH8-MX1iNqLS"
      },
      "source": [
        "La explicación de cada la metrica esta en el script del metodo NMBM"
      ]
    },
    {
      "cell_type": "markdown",
      "metadata": {
        "id": "RL2nN5lnFJ7p"
      },
      "source": [
        "##### Se evalua la Precision"
      ]
    },
    {
      "cell_type": "code",
      "metadata": {
        "colab": {
          "base_uri": "https://localhost:8080/"
        },
        "id": "WRyBNObUF1fa",
        "outputId": "8bd287f5-46ea-46a1-b42d-9316c832c6f4"
      },
      "source": [
        "valid_precision_score = precision_score(true_valid_labels,predict_valid_labels, average='macro')\n",
        "print(valid_precision_score)"
      ],
      "execution_count": null,
      "outputs": [
        {
          "output_type": "stream",
          "name": "stdout",
          "text": [
            "0.659674316717827\n"
          ]
        }
      ]
    },
    {
      "cell_type": "markdown",
      "metadata": {
        "id": "RwernYS9Gv1L"
      },
      "source": [
        "##### Se evalua el Recall"
      ]
    },
    {
      "cell_type": "code",
      "metadata": {
        "colab": {
          "base_uri": "https://localhost:8080/"
        },
        "id": "C7WOq_z1G76v",
        "outputId": "c7f3bf51-5b78-4e21-99f7-4658659a1b1f"
      },
      "source": [
        "valid_recall_score = recall_score(true_valid_labels,predict_valid_labels, average='macro')\n",
        "print(valid_recall_score)"
      ],
      "execution_count": null,
      "outputs": [
        {
          "output_type": "stream",
          "name": "stdout",
          "text": [
            "0.6409472020519992\n"
          ]
        }
      ]
    },
    {
      "cell_type": "markdown",
      "metadata": {
        "id": "P1H0QAS-IoIm"
      },
      "source": [
        "##### Se evalua el F1_score"
      ]
    },
    {
      "cell_type": "code",
      "metadata": {
        "colab": {
          "base_uri": "https://localhost:8080/"
        },
        "id": "gIM9lcW4It87",
        "outputId": "25a9aefa-fee9-4df2-804f-b85046521377"
      },
      "source": [
        "valid_F1_score = f1_score(true_valid_labels,predict_valid_labels, average='macro')\n",
        "print(valid_F1_score)"
      ],
      "execution_count": null,
      "outputs": [
        {
          "output_type": "stream",
          "name": "stdout",
          "text": [
            "0.6384508722484187\n"
          ]
        }
      ]
    },
    {
      "cell_type": "markdown",
      "metadata": {
        "id": "aCn_58w3JabH"
      },
      "source": [
        "Se evalua el ROC_AUC"
      ]
    },
    {
      "cell_type": "code",
      "metadata": {
        "colab": {
          "base_uri": "https://localhost:8080/"
        },
        "id": "1TwttktOJZ3N",
        "outputId": "8e99bc1e-bbae-4ab4-e8ff-cdc8dd0d2dc0"
      },
      "source": [
        "valid_roc_auc_score = roc_auc_score(true_valid_labels,cv_valid_labels, average='macro', multi_class='ovr')\n",
        "print(valid_roc_auc_score)"
      ],
      "execution_count": null,
      "outputs": [
        {
          "output_type": "stream",
          "name": "stdout",
          "text": [
            "0.8365157787344205\n"
          ]
        }
      ]
    },
    {
      "cell_type": "markdown",
      "metadata": {
        "id": "SK_Oi3bpL3IF"
      },
      "source": [
        "En este caso se eligio un paramatero multi_class='ovr', ya que se considerá que este estaría dando el resultado más general posible. Ya que la clasificación binaria esta dada por la clase que se quiere evaluar contra una \"clase\" donde están el resto de las las clases."
      ]
    },
    {
      "cell_type": "markdown",
      "metadata": {
        "id": "4L-V0uc-YOan"
      },
      "source": [
        "La conclusión se encuentra en el archivo del Multinomial Bayes."
      ]
    }
  ]
}